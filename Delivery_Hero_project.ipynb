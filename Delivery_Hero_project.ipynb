{
  "nbformat": 4,
  "nbformat_minor": 0,
  "metadata": {
    "colab": {
      "provenance": []
    },
    "kernelspec": {
      "name": "python3",
      "display_name": "Python 3"
    },
    "language_info": {
      "name": "python"
    }
  },
  "cells": [
    {
      "cell_type": "code",
      "source": [
        "# Step 1: Import Required Libraries\n",
        "import pandas as pd\n",
        "import numpy as np\n",
        "# from datetime import datetime # Not needed for this dataset's time columns\n",
        "from sklearn.model_selection import train_test_split\n",
        "from sklearn.ensemble import RandomForestRegressor\n",
        "from sklearn.metrics import mean_absolute_error, mean_squared_error, r2_score\n",
        "# from haversine import haversine # Not needed for this dataset's features\n",
        "import joblib\n",
        "\n",
        "# Step 2: Load Dataset\n",
        "# Load the dataset that was processed in the previous successful cell\n",
        "df = pd.read_csv('/content/simulated_delivery_data_1000.csv')\n",
        "\n",
        "# Step 3: Data Cleaning & Feature Engineering\n",
        "# The previous successful cell already performed necessary cleaning and feature engineering\n",
        "# on this specific dataset (simulated_delivery_data_1000.csv).\n",
        "# We should align the feature list with what was used successfully before.\n",
        "# The previous cell calculated 'order_hour' and 'delivery_duration_mins'.\n",
        "\n",
        "# Ensure the correct target column name is used, based on the previous cell\n",
        "target = 'delivery_duration_mins'\n",
        "\n",
        "# Define features based on the columns available in the df from the previous cell's processing\n",
        "# and what was used in the successful model training.\n",
        "# Based on ipython-input-8-841101b8ba29, the columns in df are\n",
        "# ['pickup_lat', 'pickup_lng', 'dropoff_lat', 'dropoff_lng', 'order_hour', 'delivery_duration_mins']\n",
        "# and the features used were ['order_hour', 'pickup_lat', 'pickup_lng', 'dropoff_lat', 'dropoff_lng'].\n",
        "features = ['order_hour', 'pickup_lat', 'pickup_lng', 'dropoff_lat', 'dropoff_lng']\n",
        "\n",
        "\n",
        "# Step 4: Train-Test Split\n",
        "X = df[features]\n",
        "y = df[target]\n",
        "X_train, X_test, y_train, y_test = train_test_split(X, y, test_size=0.2, random_state=42)\n",
        "\n",
        "# Step 5: Model Training\n",
        "from sklearn.ensemble import RandomForestRegressor\n",
        "\n",
        "model = RandomForestRegressor(n_estimators=100, random_state=42)\n",
        "model.fit(X_train, y_train)\n",
        "\n",
        "# Step 6: Evaluation\n",
        "from sklearn.metrics import mean_absolute_error, mean_squared_error, r2_score\n",
        "import numpy as np\n",
        "\n",
        "y_pred = model.predict(X_test)\n",
        "\n",
        "mae = mean_absolute_error(y_test, y_pred)\n",
        "rmse = np.sqrt(mean_squared_error(y_test, y_pred))\n",
        "r2 = r2_score(y_test, y_pred)\n",
        "\n",
        "print(f\"MAE: {mae:.2f} mins\")\n",
        "print(f\"RMSE: {rmse:.2f} mins\")\n",
        "print(f\"R2 Score: {r2:.2f}\")\n",
        "# Print columns to verify\n",
        "print(df.columns.tolist())\n",
        "\n",
        "\n",
        "# Step 7: Save the Model\n",
        "# Saving with a slightly different name to differentiate from the other dataset's model\n",
        "joblib.dump(model, 'delivery_time_model_simulated.pkl')"
      ],
      "metadata": {
        "colab": {
          "base_uri": "https://localhost:8080/"
        },
        "id": "4KtnTMX7lyFJ",
        "outputId": "729b0d14-3a97-4679-c575-9a8b352cff2a"
      },
      "execution_count": 21,
      "outputs": [
        {
          "output_type": "stream",
          "name": "stdout",
          "text": [
            "MAE: 1.06 mins\n",
            "RMSE: 1.60 mins\n",
            "R2 Score: 0.45\n",
            "['pickup_lat', 'pickup_lng', 'dropoff_lat', 'dropoff_lng', 'order_hour', 'day_of_week', 'distance_km', 'delivery_duration_mins']\n"
          ]
        },
        {
          "output_type": "execute_result",
          "data": {
            "text/plain": [
              "['delivery_time_model_simulated.pkl']"
            ]
          },
          "metadata": {},
          "execution_count": 21
        }
      ]
    }
  ]
}